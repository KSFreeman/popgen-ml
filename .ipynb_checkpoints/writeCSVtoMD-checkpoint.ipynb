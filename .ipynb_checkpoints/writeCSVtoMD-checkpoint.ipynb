{
 "cells": [
  {
   "cell_type": "code",
   "execution_count": 25,
   "metadata": {},
   "outputs": [],
   "source": [
    "csv         = \"/home/kevin/LOTTERHOS_LAB/Compliance_List_Installed08282018.csv\"\n",
    "outFile     = \"/home/kevin/LOTTERHOS_LAB/complianceList.md\"\n",
    "hasHeader   = False\n",
    "sep         = \",\"\n",
    "colNames    = [\"Package\",\"Version\"] "
   ]
  },
  {
   "cell_type": "code",
   "execution_count": 27,
   "metadata": {},
   "outputs": [],
   "source": [
    "with open(csv, 'r') as f:\n",
    "    first = True\n",
    "    for line in f:\n",
    "        line      = line.strip()\n",
    "        splitLine = line.split(sep)\n",
    "        \n",
    "        if first:\n",
    "            hyphenLine  = [\"---\"] * ncol\n",
    "            hyphenLine  = addPipes(hyphenLine)\n",
    "            \n",
    "            if hasHeader:\n",
    "                ncol      = len(splitLine)\n",
    "                header    = addPipes(splitLine)\n",
    "                outLines  = [header] + [hyphenLine]\n",
    "            else:\n",
    "                ncol     = len(colNames)\n",
    "                header   = addPipes(colNames)\n",
    "                outLines = [header] + [hyphenLine]\n",
    "                outLines.append(addPipes(splitLine))\n",
    "            first = False\n",
    "        else: \n",
    "            outLines.append(addPipes(splitLine))\n",
    "            \n",
    "with open(outFile, \"w\") as out:\n",
    "    for line in outLines:\n",
    "        out.write(\"%s\\n\" % line)"
   ]
  },
  {
   "cell_type": "code",
   "execution_count": null,
   "metadata": {},
   "outputs": [],
   "source": []
  },
  {
   "cell_type": "code",
   "execution_count": 5,
   "metadata": {},
   "outputs": [],
   "source": [
    "def addPipes(line):\n",
    "    line =  \" | \".join(line)\n",
    "    return(\"| \" + line + \" |\")"
   ]
  }
 ],
 "metadata": {
  "kernelspec": {
   "display_name": "Python3 (ML)",
   "language": "python",
   "name": "ml"
  },
  "language_info": {
   "codemirror_mode": {
    "name": "ipython",
    "version": 3
   },
   "file_extension": ".py",
   "mimetype": "text/x-python",
   "name": "python",
   "nbconvert_exporter": "python",
   "pygments_lexer": "ipython3",
   "version": "3.6.6"
  }
 },
 "nbformat": 4,
 "nbformat_minor": 2
}
